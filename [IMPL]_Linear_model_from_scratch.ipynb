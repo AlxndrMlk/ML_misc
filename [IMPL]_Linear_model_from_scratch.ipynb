{
 "cells": [
  {
   "cell_type": "code",
   "execution_count": 65,
   "metadata": {},
   "outputs": [],
   "source": [
    "import numpy as np\n",
    "import matplotlib.pyplot as plt\n",
    "\n",
    "plt.style.use('fivethirtyeight')"
   ]
  },
  {
   "cell_type": "code",
   "execution_count": 66,
   "metadata": {},
   "outputs": [],
   "source": [
    "# Define forward pass\n",
    "\n",
    "def forward(x,w):\n",
    "    return x*w"
   ]
  },
  {
   "cell_type": "code",
   "execution_count": 67,
   "metadata": {},
   "outputs": [],
   "source": [
    "# Define loss\n",
    "\n",
    "def loss(x,y,w):\n",
    "    y_pred = forward(x,w)\n",
    "    return (y_pred - y)**2"
   ]
  },
  {
   "cell_type": "code",
   "execution_count": 68,
   "metadata": {},
   "outputs": [],
   "source": [
    "# Define gradient\n",
    "\n",
    "def gradient(x,y,w):\n",
    "    return 2*x*(x*w - y)"
   ]
  },
  {
   "cell_type": "code",
   "execution_count": 157,
   "metadata": {},
   "outputs": [],
   "source": [
    "# Define sets of values\n",
    "\n",
    "x = [1,2,3,4,5]\n",
    "y = [2,4,6,8,10]"
   ]
  },
  {
   "cell_type": "code",
   "execution_count": 192,
   "metadata": {},
   "outputs": [],
   "source": [
    "# Define training\n",
    "\n",
    "def train(x, y, learning_rate, n_epochs):\n",
    "    w = np.random.randint(1000)\n",
    "    print(f'Initial weight: {w}')\n",
    "    for epoch in range(n_epochs):\n",
    "        for x_, y_ in zip(x, y):\n",
    "            grad = gradient(x_,y_,w)\n",
    "            w = w - learning_rate * grad\n",
    "            l = loss(x_, y_, w)\n",
    "            # print(f'Loss: {l:09.3f}')\n",
    "        print(f'Epoch: {epoch + 1:03}, w={w:06.3f}, loss={l:06.3f}')"
   ]
  },
  {
   "cell_type": "code",
   "execution_count": 195,
   "metadata": {},
   "outputs": [
    {
     "name": "stdout",
     "output_type": "stream",
     "text": [
      "Initial weight: 933\n",
      "Epoch: 001, w=-4.119, loss=936.048\n",
      "Epoch: 002, w=02.040, loss=00.040\n",
      "Epoch: 003, w=02.000, loss=00.000\n",
      "Epoch: 004, w=02.000, loss=00.000\n",
      "Epoch: 005, w=02.000, loss=00.000\n",
      "Epoch: 006, w=02.000, loss=00.000\n",
      "Epoch: 007, w=02.000, loss=00.000\n",
      "Epoch: 008, w=02.000, loss=00.000\n",
      "Epoch: 009, w=02.000, loss=00.000\n",
      "Epoch: 010, w=02.000, loss=00.000\n"
     ]
    }
   ],
   "source": [
    "train(x, y, 0.03, 10)"
   ]
  },
  {
   "cell_type": "code",
   "execution_count": 149,
   "metadata": {},
   "outputs": [
    {
     "data": {
      "text/plain": [
       "3"
      ]
     },
     "execution_count": 149,
     "metadata": {},
     "output_type": "execute_result"
    }
   ],
   "source": [
    "len(str(100))"
   ]
  },
  {
   "cell_type": "code",
   "execution_count": null,
   "metadata": {},
   "outputs": [],
   "source": []
  }
 ],
 "metadata": {
  "kernelspec": {
   "display_name": "Python 3",
   "language": "python",
   "name": "python3"
  },
  "language_info": {
   "codemirror_mode": {
    "name": "ipython",
    "version": 3
   },
   "file_extension": ".py",
   "mimetype": "text/x-python",
   "name": "python",
   "nbconvert_exporter": "python",
   "pygments_lexer": "ipython3",
   "version": "3.6.5"
  }
 },
 "nbformat": 4,
 "nbformat_minor": 2
}
