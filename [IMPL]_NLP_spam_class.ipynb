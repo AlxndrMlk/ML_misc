{
 "cells": [
  {
   "cell_type": "code",
   "execution_count": 325,
   "metadata": {},
   "outputs": [],
   "source": [
    "import pandas as pd\n",
    "import numpy as np\n",
    "\n",
    "import seaborn as sns; sns.set()\n",
    "import matplotlib.pyplot as plt\n",
    "\n",
    "from sklearn.naive_bayes import MultinomialNB\n",
    "\n",
    "from sklearn.model_selection import train_test_split\n",
    "\n",
    "from sklearn.metrics import average_precision_score\n",
    "from sklearn.metrics import f1_score\n",
    "from sklearn.metrics import classification_report\n",
    "from sklearn.metrics import accuracy_score\n",
    "from sklearn.metrics import confusion_matrix\n",
    "\n",
    "from sklearn.preprocessing import LabelBinarizer\n",
    "from sklearn.feature_extraction.text import CountVectorizer\n",
    "\n",
    "import collections\n",
    "import re\n",
    "\n",
    "from io import BytesIO\n",
    "from zipfile import ZipFile\n",
    "from urllib.request import urlopen"
   ]
  },
  {
   "cell_type": "markdown",
   "metadata": {},
   "source": [
    "# Implementing a spam classifier"
   ]
  },
  {
   "cell_type": "markdown",
   "metadata": {},
   "source": [
    "## Read and examine the data"
   ]
  },
  {
   "cell_type": "code",
   "execution_count": 71,
   "metadata": {
    "scrolled": false
   },
   "outputs": [],
   "source": [
    "# Define url\n",
    "archive = r'https://archive.ics.uci.edu/ml/machine-learning-databases/00228/smsspamcollection.zip'\n",
    "\n",
    "# Open url\n",
    "url = urlopen(archive)"
   ]
  },
  {
   "cell_type": "code",
   "execution_count": 72,
   "metadata": {},
   "outputs": [],
   "source": [
    "# read zip file\n",
    "my_zip = ZipFile(BytesIO(url.read()))"
   ]
  },
  {
   "cell_type": "code",
   "execution_count": 73,
   "metadata": {},
   "outputs": [
    {
     "data": {
      "text/plain": [
       "['SMSSpamCollection', 'readme']"
      ]
     },
     "execution_count": 73,
     "metadata": {},
     "output_type": "execute_result"
    }
   ],
   "source": [
    "# Get file names\n",
    "my_zip.namelist()"
   ]
  },
  {
   "cell_type": "code",
   "execution_count": 75,
   "metadata": {},
   "outputs": [],
   "source": [
    "filename = my_zip.namelist()[0]"
   ]
  },
  {
   "cell_type": "code",
   "execution_count": 86,
   "metadata": {},
   "outputs": [],
   "source": [
    "# Read in the data\n",
    "data = pd.read_csv(my_zip.open(filename), sep='\\t', header=None, names=['class', 'text'])"
   ]
  },
  {
   "cell_type": "code",
   "execution_count": 103,
   "metadata": {},
   "outputs": [
    {
     "data": {
      "text/html": [
       "<div>\n",
       "<style scoped>\n",
       "    .dataframe tbody tr th:only-of-type {\n",
       "        vertical-align: middle;\n",
       "    }\n",
       "\n",
       "    .dataframe tbody tr th {\n",
       "        vertical-align: top;\n",
       "    }\n",
       "\n",
       "    .dataframe thead th {\n",
       "        text-align: right;\n",
       "    }\n",
       "</style>\n",
       "<table border=\"1\" class=\"dataframe\">\n",
       "  <thead>\n",
       "    <tr style=\"text-align: right;\">\n",
       "      <th></th>\n",
       "      <th>class</th>\n",
       "      <th>text</th>\n",
       "    </tr>\n",
       "  </thead>\n",
       "  <tbody>\n",
       "    <tr>\n",
       "      <th>1026</th>\n",
       "      <td>ham</td>\n",
       "      <td>I have a sore throat. It's scratches when I talk</td>\n",
       "    </tr>\n",
       "    <tr>\n",
       "      <th>4004</th>\n",
       "      <td>ham</td>\n",
       "      <td>somewhere out there beneath the pale moon ligh...</td>\n",
       "    </tr>\n",
       "    <tr>\n",
       "      <th>4810</th>\n",
       "      <td>ham</td>\n",
       "      <td>Don't worry though, I understand how important...</td>\n",
       "    </tr>\n",
       "    <tr>\n",
       "      <th>532</th>\n",
       "      <td>ham</td>\n",
       "      <td>What Today-sunday..sunday is holiday..so no wo...</td>\n",
       "    </tr>\n",
       "    <tr>\n",
       "      <th>5028</th>\n",
       "      <td>spam</td>\n",
       "      <td>PRIVATE! Your 2003 Account Statement for shows...</td>\n",
       "    </tr>\n",
       "    <tr>\n",
       "      <th>4129</th>\n",
       "      <td>ham</td>\n",
       "      <td>I dont thnk its a wrong calling between us</td>\n",
       "    </tr>\n",
       "    <tr>\n",
       "      <th>1634</th>\n",
       "      <td>ham</td>\n",
       "      <td>Yesterday its with me only . Now am going home.</td>\n",
       "    </tr>\n",
       "    <tr>\n",
       "      <th>2232</th>\n",
       "      <td>ham</td>\n",
       "      <td>K, wen ur free come to my home and also tel vi...</td>\n",
       "    </tr>\n",
       "    <tr>\n",
       "      <th>4683</th>\n",
       "      <td>ham</td>\n",
       "      <td>Haha yeah, 2 oz is kind of a shitload</td>\n",
       "    </tr>\n",
       "    <tr>\n",
       "      <th>1680</th>\n",
       "      <td>ham</td>\n",
       "      <td>Today is \"song dedicated day..\" Which song wil...</td>\n",
       "    </tr>\n",
       "  </tbody>\n",
       "</table>\n",
       "</div>"
      ],
      "text/plain": [
       "     class                                               text\n",
       "1026   ham   I have a sore throat. It's scratches when I talk\n",
       "4004   ham  somewhere out there beneath the pale moon ligh...\n",
       "4810   ham  Don't worry though, I understand how important...\n",
       "532    ham  What Today-sunday..sunday is holiday..so no wo...\n",
       "5028  spam  PRIVATE! Your 2003 Account Statement for shows...\n",
       "4129   ham         I dont thnk its a wrong calling between us\n",
       "1634   ham    Yesterday its with me only . Now am going home.\n",
       "2232   ham  K, wen ur free come to my home and also tel vi...\n",
       "4683   ham              Haha yeah, 2 oz is kind of a shitload\n",
       "1680   ham  Today is \"song dedicated day..\" Which song wil..."
      ]
     },
     "execution_count": 103,
     "metadata": {},
     "output_type": "execute_result"
    }
   ],
   "source": [
    "data.sample(10)"
   ]
  },
  {
   "cell_type": "code",
   "execution_count": 98,
   "metadata": {},
   "outputs": [],
   "source": [
    "def get_sample(data=data, n=10):\n",
    "    sample = data.sample(n).iloc[:,1]\n",
    "    for i in sample:\n",
    "        print(f'{i}\\n')"
   ]
  },
  {
   "cell_type": "code",
   "execution_count": 102,
   "metadata": {},
   "outputs": [
    {
     "name": "stdout",
     "output_type": "stream",
     "text": [
      "Yeah like if it goes like it did with my friends imma flip my shit in like half an hour\n",
      "\n",
      "Yes:)from last week itself i'm taking live call.\n",
      "\n"
     ]
    }
   ],
   "source": [
    "get_sample(n=2)"
   ]
  },
  {
   "cell_type": "markdown",
   "metadata": {},
   "source": [
    "## Prepare and pre-process the data"
   ]
  },
  {
   "cell_type": "code",
   "execution_count": 123,
   "metadata": {},
   "outputs": [],
   "source": [
    "# Binarize labels\n",
    "data['class'] = data['class'].map({'ham': 0, 'spam': 1})"
   ]
  },
  {
   "cell_type": "markdown",
   "metadata": {},
   "source": [
    "* ### Train test split"
   ]
  },
  {
   "cell_type": "code",
   "execution_count": 124,
   "metadata": {},
   "outputs": [],
   "source": [
    "# Train-test split\n",
    "X_train, X_test, y_train, y_test = train_test_split(data['text'], data['class'], \n",
    "                                                   test_size=.25)"
   ]
  },
  {
   "cell_type": "code",
   "execution_count": 329,
   "metadata": {},
   "outputs": [],
   "source": [
    "# Vectorize X\n",
    "count_vec = CountVectorizer(min_df=1)"
   ]
  },
  {
   "cell_type": "code",
   "execution_count": 330,
   "metadata": {},
   "outputs": [],
   "source": [
    "X_train_counts = count_vec.fit_transform(X_train)"
   ]
  },
  {
   "cell_type": "code",
   "execution_count": 331,
   "metadata": {},
   "outputs": [
    {
     "data": {
      "text/plain": [
       "<4179x7463 sparse matrix of type '<class 'numpy.int64'>'\n",
       "\twith 55470 stored elements in Compressed Sparse Row format>"
      ]
     },
     "execution_count": 331,
     "metadata": {},
     "output_type": "execute_result"
    }
   ],
   "source": [
    "X_train_counts"
   ]
  },
  {
   "cell_type": "code",
   "execution_count": 332,
   "metadata": {},
   "outputs": [
    {
     "data": {
      "text/plain": [
       "[('arul', 1029), ('doctor', 2282), ('august', 1082), ('09066660100', 232)]"
      ]
     },
     "execution_count": 332,
     "metadata": {},
     "output_type": "execute_result"
    }
   ],
   "source": [
    "# A quick check of a vocab list\n",
    "number = np.random.randint(2314)\n",
    "list(count_vec.vocabulary_.items())[number:number+4]"
   ]
  },
  {
   "cell_type": "markdown",
   "metadata": {},
   "source": [
    "## Train"
   ]
  },
  {
   "cell_type": "code",
   "execution_count": 333,
   "metadata": {},
   "outputs": [],
   "source": [
    "# Instantiate NB clf\n",
    "clf = MultinomialNB()"
   ]
  },
  {
   "cell_type": "code",
   "execution_count": 334,
   "metadata": {},
   "outputs": [
    {
     "data": {
      "text/plain": [
       "MultinomialNB(alpha=1.0, class_prior=None, fit_prior=True)"
      ]
     },
     "execution_count": 334,
     "metadata": {},
     "output_type": "execute_result"
    }
   ],
   "source": [
    "# Fit our clf\n",
    "clf.fit(X_train_counts, y_train.ravel())"
   ]
  },
  {
   "cell_type": "code",
   "execution_count": 335,
   "metadata": {},
   "outputs": [
    {
     "data": {
      "text/plain": [
       "7463"
      ]
     },
     "execution_count": 335,
     "metadata": {},
     "output_type": "execute_result"
    }
   ],
   "source": [
    "len(clf.coef_[0])"
   ]
  },
  {
   "cell_type": "code",
   "execution_count": 336,
   "metadata": {},
   "outputs": [],
   "source": [
    "importance_count = collections.Counter()"
   ]
  },
  {
   "cell_type": "code",
   "execution_count": 337,
   "metadata": {},
   "outputs": [],
   "source": [
    "for word, imp in zip(count_vec.vocabulary_.keys(), clf.coef_[0]):\n",
    "    importance_count[word] = imp"
   ]
  },
  {
   "cell_type": "code",
   "execution_count": 338,
   "metadata": {},
   "outputs": [
    {
     "data": {
      "text/plain": [
       "[('nz', -3.6553343335941104),\n",
       " ('catching', -4.322506027750795),\n",
       " ('fired', -4.507027805454352),\n",
       " ('casing', -4.5706856572263295),\n",
       " ('mus', -4.819990034579211),\n",
       " ('chords', -4.882121815686218),\n",
       " ('invention', -4.888552706016508),\n",
       " ('noworriesloans', -4.928031516990296),\n",
       " ('jontin', -4.962164523359754),\n",
       " ('shitload', -5.127956778202498)]"
      ]
     },
     "execution_count": 338,
     "metadata": {},
     "output_type": "execute_result"
    }
   ],
   "source": [
    "importance_count.most_common()[:10]"
   ]
  },
  {
   "cell_type": "markdown",
   "metadata": {},
   "source": [
    "## Test"
   ]
  },
  {
   "cell_type": "code",
   "execution_count": 339,
   "metadata": {},
   "outputs": [],
   "source": [
    "# Transform test \n",
    "X_test_counts = count_vec.transform(X_test)"
   ]
  },
  {
   "cell_type": "code",
   "execution_count": 340,
   "metadata": {},
   "outputs": [],
   "source": [
    "# Predict\n",
    "preds = clf.predict(X_test_counts)"
   ]
  },
  {
   "cell_type": "markdown",
   "metadata": {},
   "source": [
    "## Evaluate"
   ]
  },
  {
   "cell_type": "code",
   "execution_count": 341,
   "metadata": {},
   "outputs": [],
   "source": [
    "# Evaluate\n",
    "def get_metrics(y_true, y_pred, metric=[f1_score]):\n",
    "    for m in metric:\n",
    "        metric_name = s = re.search('\\s\\S+\\s', str(m)).group(0).strip()\n",
    "        print(f'{metric_name:30}== {m(y_true, y_pred):.4f}')\n",
    "    print('\\n')\n",
    "    print(classification_report(y_true, y_pred))"
   ]
  },
  {
   "cell_type": "code",
   "execution_count": 342,
   "metadata": {},
   "outputs": [
    {
     "name": "stdout",
     "output_type": "stream",
     "text": [
      "f1_score                      == 0.9584\n",
      "average_precision_score       == 0.9269\n",
      "accuracy_score                == 0.9892\n",
      "\n",
      "\n",
      "             precision    recall  f1-score   support\n",
      "\n",
      "          0       0.99      1.00      0.99      1209\n",
      "          1       0.98      0.94      0.96       184\n",
      "\n",
      "avg / total       0.99      0.99      0.99      1393\n",
      "\n"
     ]
    }
   ],
   "source": [
    "get_metrics(y_test, preds, metric=[f1_score, \n",
    "                                   average_precision_score,\n",
    "                                  accuracy_score])"
   ]
  },
  {
   "cell_type": "code",
   "execution_count": 343,
   "metadata": {},
   "outputs": [
    {
     "data": {
      "text/plain": [
       "4179"
      ]
     },
     "execution_count": 343,
     "metadata": {},
     "output_type": "execute_result"
    }
   ],
   "source": [
    "len(X_train.values)"
   ]
  },
  {
   "cell_type": "code",
   "execution_count": 344,
   "metadata": {},
   "outputs": [
    {
     "data": {
      "text/plain": [
       "1393"
      ]
     },
     "execution_count": 344,
     "metadata": {},
     "output_type": "execute_result"
    }
   ],
   "source": [
    "len(X_test.values)"
   ]
  },
  {
   "cell_type": "code",
   "execution_count": 345,
   "metadata": {},
   "outputs": [],
   "source": [
    "# Some snity check\n",
    "\n",
    "def predict_random(test_set):\n",
    "    phrase = test_set.values[np.random.randint(len(test_set))]\n",
    "    pred = clf.predict(count_vec.transform([phrase]))\n",
    "    if pred == 1:\n",
    "        pred = 'SPAM'\n",
    "    else:\n",
    "        pred = 'HAM'\n",
    "    return phrase, pred"
   ]
  },
  {
   "cell_type": "code",
   "execution_count": 346,
   "metadata": {},
   "outputs": [],
   "source": [
    "def make_preds(test_set, n):\n",
    "    for i in range(n):\n",
    "        pred = predict_random(test_set)\n",
    "        print(f'Message:\\n{pred[0]}\\nClass: {pred[1]}\\n')"
   ]
  },
  {
   "cell_type": "code",
   "execution_count": 347,
   "metadata": {},
   "outputs": [
    {
     "name": "stdout",
     "output_type": "stream",
     "text": [
      "Message:\n",
      "Draw va?i dont think so:)\n",
      "Class: HAM\n",
      "\n",
      "Message:\n",
      "Thanks, I'll keep that in mind\n",
      "Class: HAM\n",
      "\n",
      "Message:\n",
      "K, jason says he's gonna be around so I'll be up there around  &lt;#&gt;\n",
      "Class: HAM\n",
      "\n",
      "Message:\n",
      "Yo, call me when you get the chance, a friend of mine wanted me to ask you about a big order\n",
      "Class: HAM\n",
      "\n",
      "Message:\n",
      "Dunno lei shd b driving lor cos i go sch 1 hr oni.\n",
      "Class: HAM\n",
      "\n",
      "Message:\n",
      "Hmmm...k...but i want to change the field quickly da:-)i wanna get system administrator or network administrator..\n",
      "Class: HAM\n",
      "\n",
      "Message:\n",
      "74355 XMAS iscoming & ur awarded either £500 CD gift vouchers & free entry 2 r £100 weekly draw txt MUSIC to 87066 TnC\n",
      "Class: SPAM\n",
      "\n",
      "Message:\n",
      "I sent lanre fakeye's Eckankar details to the mail box\n",
      "Class: HAM\n",
      "\n",
      "Message:\n",
      "Eh u remember how 2 spell his name... Yes i did. He v naughty make until i v wet.\n",
      "Class: HAM\n",
      "\n",
      "Message:\n",
      "We will meet soon princess! Ttyl!\n",
      "Class: HAM\n",
      "\n"
     ]
    }
   ],
   "source": [
    "make_preds(X_test, 10)"
   ]
  },
  {
   "cell_type": "code",
   "execution_count": 348,
   "metadata": {},
   "outputs": [],
   "source": [
    "# Confusion matrix\n",
    "mtrx = confusion_matrix(y_test, preds)"
   ]
  },
  {
   "cell_type": "code",
   "execution_count": 349,
   "metadata": {},
   "outputs": [
    {
     "data": {
      "image/png": "[encoded data removed]",
      "text/plain": [
       "<Figure size 432x288 with 1 Axes>"
      ]
     },
     "metadata": {},
     "output_type": "display_data"
    }
   ],
   "source": [
    "sns.heatmap(mtrx.T, square=True, annot=True, fmt='d', cbar=False)\n",
    "plt.xlabel('true label')\n",
    "plt.ylabel('predicted label')\n",
    "plt.title('Confusion matrix')\n",
    "plt.show()"
   ]
  },
  {
   "cell_type": "code",
   "execution_count": 353,
   "metadata": {},
   "outputs": [
    {
     "data": {
      "text/plain": [
       "array([[1205,    4],\n",
       "       [  11,  173]], dtype=int64)"
      ]
     },
     "execution_count": 353,
     "metadata": {},
     "output_type": "execute_result"
    }
   ],
   "source": [
    "mtrx"
   ]
  },
  {
   "cell_type": "code",
   "execution_count": 355,
   "metadata": {},
   "outputs": [],
   "source": [
    "tn, fp, fn, tp = confusion_matrix(y_test, preds).ravel()"
   ]
  },
  {
   "cell_type": "code",
   "execution_count": null,
   "metadata": {},
   "outputs": [],
   "source": []
  }
 ],
 "metadata": {
  "kernelspec": {
   "display_name": "Python 3",
   "language": "python",
   "name": "python3"
  },
  "language_info": {
   "codemirror_mode": {
    "name": "ipython",
    "version": 3
   },
   "file_extension": ".py",
   "mimetype": "text/x-python",
   "name": "python",
   "nbconvert_exporter": "python",
   "pygments_lexer": "ipython3",
   "version": "3.6.5"
  }
 },
 "nbformat": 4,
 "nbformat_minor": 2
}
